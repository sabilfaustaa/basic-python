{
 "cells": [
  {
   "cell_type": "markdown",
   "id": "323fcebc",
   "metadata": {},
   "source": [
    "# Praktikum Python\n"
   ]
  },
  {
   "cell_type": "markdown",
   "id": "3aa3af6a",
   "metadata": {},
   "source": [
    "## Hal yang harus diperhatikan dari Python\n",
    "\n",
    "- Komentar pada bahasa python itu menggunakan symbol \"#\"\n",
    "- Whitespace atau indentasi pada python itu sangat berpengaruh\n",
    "- Pada bahasa python itu tidak menggunakan titik koma (;) diakhir\n",
    "\n"
   ]
  },
  {
   "cell_type": "markdown",
   "id": "cb866784",
   "metadata": {},
   "source": [
    "## Program Pertama"
   ]
  },
  {
   "cell_type": "code",
   "execution_count": 1,
   "id": "7e9e1b61",
   "metadata": {},
   "outputs": [
    {
     "name": "stdout",
     "output_type": "stream",
     "text": [
      "Hello world\n"
     ]
    }
   ],
   "source": [
    "print(\"Hello world\")"
   ]
  },
  {
   "cell_type": "markdown",
   "id": "46dac314",
   "metadata": {},
   "source": [
    "### Latihan 1"
   ]
  },
  {
   "cell_type": "code",
   "execution_count": 2,
   "id": "fd69203d",
   "metadata": {},
   "outputs": [
    {
     "name": "stdout",
     "output_type": "stream",
     "text": [
      "Selamat pagi\n",
      "Nama saya Ihsan\n",
      "Python  tidak sulit, saya akan menguasainya!\n"
     ]
    }
   ],
   "source": [
    "print(\"Selamat pagi\\nNama saya Ihsan\\nPython  tidak sulit, saya akan menguasainya!\")"
   ]
  },
  {
   "cell_type": "code",
   "execution_count": 3,
   "id": "233e49e2",
   "metadata": {},
   "outputs": [
    {
     "name": "stdout",
     "output_type": "stream",
     "text": [
      "Selamat pagi\n",
      "Nama saya Ihsan\n",
      "Python tidak sulit, saya akan menguasainya!\n"
     ]
    }
   ],
   "source": [
    "print(\"Selamat pagi\")\n",
    "print(\"Nama saya Ihsan\")\n",
    "print(\"Python tidak sulit, saya akan menguasainya!\")"
   ]
  },
  {
   "cell_type": "markdown",
   "id": "d145f790",
   "metadata": {},
   "source": [
    "## Tipe data dasar dari python:\n",
    "- integer(bilangan bulat)\n",
    "- float(pecahan)\n",
    "- string\n",
    "- boolean -> tipe data yang hanya memiliki 2 nilai (**true or false**)"
   ]
  },
  {
   "cell_type": "code",
   "execution_count": 4,
   "id": "5fbfd047",
   "metadata": {},
   "outputs": [
    {
     "name": "stdout",
     "output_type": "stream",
     "text": [
      "<class 'int'>\n",
      "<class 'float'>\n",
      "<class 'str'>\n",
      "<class 'bool'>\n",
      "fakta terbaru : Ini string\n",
      "5\n"
     ]
    }
   ],
   "source": [
    "i = 5 \n",
    "f = 0.5\n",
    "temp = \"Ini string\"\n",
    "boolean = True\n",
    "\n",
    "# ini adalah kode untuk mengecek tipe data dari masing-masing variabel \n",
    "print(type(i))\n",
    "print(type(f))\n",
    "print(type(temp))\n",
    "print(type(boolean))\n",
    "print(\"fakta terbaru : {}\". format(temp))\n",
    "print(i)\n"
   ]
  },
  {
   "cell_type": "markdown",
   "id": "ead87397",
   "metadata": {},
   "source": [
    "## Latihan 2"
   ]
  },
  {
   "cell_type": "code",
   "execution_count": 5,
   "id": "7aa427e3",
   "metadata": {},
   "outputs": [
    {
     "name": "stdout",
     "output_type": "stream",
     "text": [
      "Panjang : 5\n",
      "Lebar : 10\n",
      "Luas : 50\n",
      "Keliling : 30\n"
     ]
    }
   ],
   "source": [
    "panjang = 5\n",
    "lebar = 10\n",
    "print(\"Panjang : {}\". format(panjang))\n",
    "print(\"Lebar : {}\". format(lebar))\n",
    "print(\"Luas : {}\". format(panjang * lebar))\n",
    "print(\"Keliling : {}\". format(2* (panjang + lebar)))\n"
   ]
  },
  {
   "cell_type": "markdown",
   "id": "e0dccc40",
   "metadata": {},
   "source": [
    "## Input dari Keyboard\n"
   ]
  },
  {
   "cell_type": "code",
   "execution_count": 6,
   "id": "b02c8f36",
   "metadata": {},
   "outputs": [
    {
     "name": "stdout",
     "output_type": "stream",
     "text": [
      "Input nilai int: 10\n",
      "Input nilai float:20\n",
      "nama: String\n",
      "10\n",
      "20.0\n",
      "String\n"
     ]
    }
   ],
   "source": [
    "i = int(input(\"Input nilai int: \"))\n",
    "r = float(input(\"Input nilai float:\")) \n",
    "nama = input(\"nama: \")\n",
    "print(i)\n",
    "print(r)\n",
    "print(nama)\n"
   ]
  },
  {
   "cell_type": "markdown",
   "id": "d18a001c",
   "metadata": {},
   "source": [
    "### Latihan 3"
   ]
  },
  {
   "cell_type": "code",
   "execution_count": 7,
   "id": "96f1dbca",
   "metadata": {},
   "outputs": [
    {
     "name": "stdout",
     "output_type": "stream",
     "text": [
      "Panjang: 5\n",
      "Lebar: 10\n",
      "Luas : 50\n",
      "Keliling : 30\n"
     ]
    }
   ],
   "source": [
    "panjang = int(input(\"Panjang: \"))\n",
    "lebar = int(input(\"Lebar: \"))\n",
    "print(\"Luas : {}\". format(panjang * lebar))\n",
    "print(\"Keliling : {}\". format(2* (panjang + lebar)))"
   ]
  },
  {
   "cell_type": "markdown",
   "id": "d1a9adcf",
   "metadata": {},
   "source": [
    "## Conditional Statement (IF-THEN-ELSE)\n",
    "- Tidak menggunakan kurung kurawal\n",
    "- Indentasi wajib\n",
    "\n"
   ]
  },
  {
   "cell_type": "code",
   "execution_count": 8,
   "id": "a265f614",
   "metadata": {},
   "outputs": [
    {
     "name": "stdout",
     "output_type": "stream",
     "text": [
      "Input nilai: 2\n",
      "positif\n"
     ]
    }
   ],
   "source": [
    "x = int(input(\"Input nilai: \"))\n",
    "if x < 0:\n",
    "    print('negatif')\n",
    "elif x > 0:\n",
    "    print('positif')\n",
    "else:\n",
    "    print('nol')\n"
   ]
  },
  {
   "cell_type": "markdown",
   "id": "3cee0662",
   "metadata": {},
   "source": [
    "### Latihan 4a"
   ]
  },
  {
   "cell_type": "code",
   "execution_count": 13,
   "id": "a697d472",
   "metadata": {},
   "outputs": [
    {
     "name": "stdout",
     "output_type": "stream",
     "text": [
      "Penghasilan Perbulan: 1000\n",
      "Pajak Anda Sebesar 0\n"
     ]
    }
   ],
   "source": [
    "penghasilan = int(input(\"Penghasilan Perbulan: \"))\n",
    "if penghasilan >= 5000000:\n",
    "    pajak = penghasilan * 20 / 100\n",
    "elif penghasilan >= 2000000 and penghasilan < 5000000:\n",
    "    pajak = penghasilan * 10 / 100\n",
    "elif penghasilan >= 1000000 and penghasilan < 2000000:\n",
    "    pajak = penghasilan * 5 / 100\n",
    "elif penghasilan < 1000000:\n",
    "    pajak = 0    \n",
    "print(\"Pajak Anda Sebesar {}\". format(pajak))"
   ]
  },
  {
   "cell_type": "markdown",
   "id": "159cd057",
   "metadata": {},
   "source": [
    "### Latihan 4b"
   ]
  },
  {
   "cell_type": "code",
   "execution_count": 15,
   "id": "0b8d23c2",
   "metadata": {},
   "outputs": [
    {
     "name": "stdout",
     "output_type": "stream",
     "text": [
      "Penghasilan Perbulan: -2\n",
      "Info Loker\n"
     ]
    }
   ],
   "source": [
    "penghasilan = int(input(\"Penghasilan Perbulan: \"))\n",
    "if penghasilan > 0:\n",
    "    if penghasilan >= 5000000:\n",
    "        pajak = penghasilan * 20 / 100\n",
    "    elif penghasilan >= 2000000 and penghasilan < 5000000:\n",
    "        pajak = penghasilan * 10 / 100\n",
    "    elif penghasilan >= 1000000 and penghasilan < 2000000:\n",
    "        pajak = penghasilan * 5 / 100\n",
    "    elif penghasilan < 1000000:\n",
    "        pajak = 0   \n",
    "    print(\"Pajak Anda Sebesar {}\". format(pajak))\n",
    "else:\n",
    "    print(\"Info Loker\")\n",
    "    "
   ]
  },
  {
   "cell_type": "markdown",
   "id": "b0a952e9",
   "metadata": {},
   "source": [
    "## Loop\n"
   ]
  },
  {
   "cell_type": "code",
   "execution_count": 16,
   "id": "38b88ee7",
   "metadata": {},
   "outputs": [
    {
     "name": "stdout",
     "output_type": "stream",
     "text": [
      "0,0\n",
      "0,1\n",
      "1,0\n",
      "1,1\n"
     ]
    }
   ],
   "source": [
    "for i in range(2):\n",
    "    for j in range(2):\n",
    "        print(\"{},{}\".format(i,j))\n"
   ]
  },
  {
   "cell_type": "code",
   "execution_count": 17,
   "id": "01fafd48",
   "metadata": {},
   "outputs": [
    {
     "name": "stdout",
     "output_type": "stream",
     "text": [
      "1\n",
      "2\n"
     ]
    }
   ],
   "source": [
    "i = 1\n",
    "while i<3:\n",
    "  print(i)\n",
    "  i = i  + 1 \n"
   ]
  },
  {
   "cell_type": "code",
   "execution_count": 18,
   "id": "3bdf0afc",
   "metadata": {},
   "outputs": [
    {
     "name": "stdout",
     "output_type": "stream",
     "text": [
      "0\n",
      "1\n",
      "2\n",
      "3\n",
      "4\n",
      "5\n"
     ]
    }
   ],
   "source": [
    "for i in range(10):\n",
    "    print(i)\n",
    "    if i==5:\n",
    "        break"
   ]
  },
  {
   "cell_type": "markdown",
   "id": "2d5e410f",
   "metadata": {},
   "source": [
    "## Latihan 5"
   ]
  },
  {
   "cell_type": "code",
   "execution_count": 32,
   "id": "3641372f",
   "metadata": {},
   "outputs": [
    {
     "name": "stdout",
     "output_type": "stream",
     "text": [
      "1\n",
      "2\n",
      "3\n",
      "2\n",
      "1\n"
     ]
    }
   ],
   "source": [
    "for i in range(1,4):\n",
    "    print(i)\n",
    "i = 2\n",
    "while i > 0:\n",
    "  print(i)\n",
    "  i = i  - 1 "
   ]
  },
  {
   "cell_type": "code",
   "execution_count": 40,
   "id": "d1aac20c",
   "metadata": {},
   "outputs": [
    {
     "name": "stdout",
     "output_type": "stream",
     "text": [
      "0\n",
      "1\n",
      "2\n",
      "4\n"
     ]
    }
   ],
   "source": [
    "for i in range(5):\n",
    "    if i==3:\n",
    "        continue #Ketika i sama dengan 3,maka dia akan lanjut ngelooping\n",
    "    print(i)"
   ]
  },
  {
   "cell_type": "markdown",
   "id": "0114bcd2",
   "metadata": {},
   "source": [
    "## List\n",
    "- Append -> untuk menambahkan elemen pada list\n"
   ]
  },
  {
   "cell_type": "code",
   "execution_count": 46,
   "id": "ab0513f3",
   "metadata": {},
   "outputs": [
    {
     "name": "stdout",
     "output_type": "stream",
     "text": [
      "nilai ke-1 =  50\n",
      "80\n",
      "50\n",
      "90\n",
      "70\n",
      "50\n",
      "85\n",
      "indeks value bernilai 90:2\n"
     ]
    }
   ],
   "source": [
    "nilai = [80, 50, 90, 70, 50]\n",
    "print(\"nilai ke-1 =  {}\".format(nilai[1]))\n",
    "nilai.append(85)\n",
    "\n",
    "for val in nilai:   # loop semua isi list\n",
    "    print(val)\n",
    "print(\"indeks value bernilai 90:{}\".format(nilai.index(90)))\n"
   ]
  },
  {
   "cell_type": "code",
   "execution_count": 58,
   "id": "daf83387",
   "metadata": {},
   "outputs": [
    {
     "name": "stdout",
     "output_type": "stream",
     "text": [
      "[0, 10, 20, 30, 40, 50, 60, 70, 80, 90]\n"
     ]
    }
   ],
   "source": [
    "nilai[1]=10\n",
    "print(nilai)"
   ]
  },
  {
   "cell_type": "code",
   "execution_count": 57,
   "id": "6a5e7f89",
   "metadata": {},
   "outputs": [
    {
     "name": "stdout",
     "output_type": "stream",
     "text": [
      "[0, 10, 20, 30, 40, 50, 60, 70, 80, 90]\n"
     ]
    }
   ],
   "source": [
    "nilai = [x*10 for x in range(0,10)]\n",
    "print(nilai)"
   ]
  },
  {
   "cell_type": "code",
   "execution_count": 56,
   "id": "afbbca2f",
   "metadata": {},
   "outputs": [
    {
     "name": "stdout",
     "output_type": "stream",
     "text": [
      "[0, 10, 20, 30, 40, 50, 60, 70, 80, 90]\n"
     ]
    }
   ],
   "source": [
    "nilai=[]\n",
    "for i in range(0,10): #0..9\t\n",
    "    nilai.append(i*10)\n",
    "print(nilai)"
   ]
  },
  {
   "cell_type": "code",
   "execution_count": 4,
   "id": "deb119ba",
   "metadata": {},
   "outputs": [
    {
     "name": "stdout",
     "output_type": "stream",
     "text": [
      "['wati', 'ahmad', 'fulan', 'rudi', 'ani']\n",
      "['wati', 'fulan', 'rudi']\n"
     ]
    }
   ],
   "source": [
    "listMahasiswa = [\"ahmad\",\"fulan\"]\n",
    "listMahasiswa.insert(0, \"wati\") #tambah elemen di paling depan\n",
    "listMahasiswa.extend(['rudi', 'ani'])   #tambah list lain\n",
    "print(listMahasiswa)\n",
    "listMahasiswa.remove('ahmad') #buang elemen\n",
    "val = listMahasiswa.pop() # buang yg terakhir\n",
    "print(listMahasiswa)\n"
   ]
  },
  {
   "cell_type": "markdown",
   "id": "a756e8c4",
   "metadata": {},
   "source": [
    "## Latihan 6"
   ]
  },
  {
   "cell_type": "code",
   "execution_count": 60,
   "id": "93b00c54",
   "metadata": {},
   "outputs": [
    {
     "name": "stdout",
     "output_type": "stream",
     "text": [
      "List: [5, 2, 9, 1, 5, 6]\n",
      "Rata-rata: 4.666666666666667\n",
      "Nilai Maksimum: 9\n",
      "Nilai Minimum: 1\n"
     ]
    }
   ],
   "source": [
    "# Definisikan list\n",
    "my_list = [5, 2, 9, 1, 5, 6]\n",
    "\n",
    "# Menghitung rata-rata\n",
    "total = 0\n",
    "for num in my_list:\n",
    "    total += num\n",
    "average = total / len(my_list) # Jumlah seluruh list dibagi banyaknya list \n",
    "\n",
    "# Menghitung nilai maksimum\n",
    "maximum = my_list[0]\n",
    "for num in my_list:\n",
    "    if num > maximum:\n",
    "        maximum = num\n",
    "\n",
    "# Menghitung nilai minimum\n",
    "minimum = my_list[0]\n",
    "for num in my_list:\n",
    "    if num < minimum:\n",
    "        minimum = num\n",
    "\n",
    "# Menampilkan hasil\n",
    "print(\"List:\", my_list)\n",
    "print(\"Rata-rata:\", average)\n",
    "print(\"Nilai Maksimum:\", maximum)\n",
    "print(\"Nilai Minimum:\", minimum)\n"
   ]
  },
  {
   "cell_type": "code",
   "execution_count": 69,
   "id": "b1481388",
   "metadata": {},
   "outputs": [
    {
     "name": "stdout",
     "output_type": "stream",
     "text": [
      "['e', 'd', 'c', 'b', 'a']\n"
     ]
    }
   ],
   "source": [
    "list = [\"a\",\"b\",\"c\",\"d\",\"e\"]\n",
    "l2 = list[2:4] # ['c','d']\n",
    "l3 = list[3:]  # ['d','e']\n",
    "l4 = list[:2]  # ['a','b']\n",
    "l5 = list[:]   # semua\n",
    "l6 = list[0:4:2] # 0 sd 3, step 2, hasilnya ['a','c']\n",
    "l7 = list[-2:]   # dari kanan, 'd','e'\n",
    "l8 = list[::-1]  # semua tapi reverse 'e','d','c'...\n",
    "list[2:3] = ['C', 'D'] #ganti multi element \n",
    "print(l8)"
   ]
  },
  {
   "cell_type": "markdown",
   "id": "4abb7d97",
   "metadata": {},
   "source": [
    "### Latihan 7"
   ]
  },
  {
   "cell_type": "code",
   "execution_count": 76,
   "id": "5db83e37",
   "metadata": {},
   "outputs": [
    {
     "name": "stdout",
     "output_type": "stream",
     "text": [
      "[3, 4, 5]\n"
     ]
    }
   ],
   "source": [
    "list1 = [1,2,3,4,5,6,7,8,9,10]\n",
    "print(list1[2:5])"
   ]
  },
  {
   "cell_type": "code",
   "execution_count": 3,
   "id": "e252444c",
   "metadata": {},
   "outputs": [
    {
     "name": "stdout",
     "output_type": "stream",
     "text": [
      "[(1, 'one'), (2, 'two'), (3, 'three')]\n"
     ]
    }
   ],
   "source": [
    "list1 = [1, 2, 3]\n",
    "list2 = ['one', 'two', 'three']\n",
    "\n",
    "# Menggunakan fungsi zip untuk menggabungkan kedua list\n",
    "hasil = zip(list1, list2)\n",
    "\n",
    "# Mengonversi hasil ke dalam list\n",
    "hasil_list = list(hasil)\n",
    "\n",
    "print(hasil_list)\n"
   ]
  },
  {
   "cell_type": "markdown",
   "id": "72b599f1",
   "metadata": {},
   "source": [
    "#### Zip"
   ]
  },
  {
   "cell_type": "code",
   "execution_count": 5,
   "id": "c7f39137",
   "metadata": {},
   "outputs": [
    {
     "name": "stdout",
     "output_type": "stream",
     "text": [
      "(1, 'satu')\n"
     ]
    }
   ],
   "source": [
    "x = [1,2,3]\n",
    "y = [\"satu\",\"dua\",\"tiga\"]\n",
    "hasil = list(zip(x,y))\n",
    "print(hasil[0])\n"
   ]
  },
  {
   "cell_type": "markdown",
   "id": "f4420608",
   "metadata": {},
   "source": [
    "#### Enumerate"
   ]
  },
  {
   "cell_type": "code",
   "execution_count": 7,
   "id": "a9189844",
   "metadata": {},
   "outputs": [
    {
     "name": "stdout",
     "output_type": "stream",
     "text": [
      "0 Budi\n",
      "1 Wati\n"
     ]
    }
   ],
   "source": [
    "list_mhs = [\"Budi\", \"Wati\"]\n",
    "for counter, value in enumerate(list_mhs):\n",
    "    print(counter, value)\n"
   ]
  },
  {
   "cell_type": "markdown",
   "id": "c763eac5",
   "metadata": {},
   "source": [
    "### Latihan 9"
   ]
  },
  {
   "cell_type": "code",
   "execution_count": 9,
   "id": "e38871c2",
   "metadata": {},
   "outputs": [
    {
     "name": "stdout",
     "output_type": "stream",
     "text": [
      "0 5 lima\n",
      "1 6 enam\n",
      "2 7 tujuh\n"
     ]
    }
   ],
   "source": [
    "list1 = [5,6,7]\n",
    "list2 = [\"lima\",\"enam\",\"tujuh\"]\n",
    "for i, (input_text, target_text) in enumerate(zip(list1, list2)):\n",
    "    print(i,input_text,target_text)\n"
   ]
  },
  {
   "cell_type": "markdown",
   "id": "feaf21c7",
   "metadata": {},
   "source": [
    "#### List Multi Dimensi"
   ]
  },
  {
   "cell_type": "code",
   "execution_count": 3,
   "id": "889bd059",
   "metadata": {},
   "outputs": [
    {
     "name": "stdout",
     "output_type": "stream",
     "text": [
      "10\n",
      "9\n",
      "8\n",
      "4\n",
      "5\n",
      "6\n",
      "7\n",
      "8\n",
      "99\n"
     ]
    }
   ],
   "source": [
    "grid = [\n",
    "    [1, 2, 3],\n",
    "    [4, 5, 6],\n",
    "    [7, 8, 9]\n",
    "]\n",
    "\n",
    "# akses\n",
    "grid[0]     # hasilnya: [1, 2, 3]\n",
    "grid[1][2]   # hasilnya 6\n",
    "\n",
    "# assign value \n",
    "grid[2][2] = 99     # hasilya [[1, 2, 3], [4, 5, 6], [7, 8, 99]]\n",
    "grid[0] = [10,9,8]  # hasilya [[10, 9, 8], [4, 5, 6], [7, 8, 99]]\n",
    "\n",
    "# loop semua elemen\n",
    "for row in grid:\n",
    "   for element in row:\n",
    "        print(element)\n",
    "\n",
    "# tambah baris\n",
    "new_row = [30, 31, 32]\n",
    "grid.append(new_row)\n",
    "\n",
    "# tambah kolom\n",
    "for row in grid:\n",
    "    row.append(0) "
   ]
  },
  {
   "cell_type": "markdown",
   "id": "56e819e3",
   "metadata": {},
   "source": [
    "#### List Comprehension"
   ]
  },
  {
   "cell_type": "code",
   "execution_count": 12,
   "id": "92d6e9aa",
   "metadata": {},
   "outputs": [
    {
     "name": "stdout",
     "output_type": "stream",
     "text": [
      "[0, 1, 4, 9]\n"
     ]
    }
   ],
   "source": [
    "squares = [x**2 for x in range(4)]\n",
    "print(squares)"
   ]
  },
  {
   "cell_type": "code",
   "execution_count": 14,
   "id": "da64cd24",
   "metadata": {},
   "outputs": [
    {
     "name": "stdout",
     "output_type": "stream",
     "text": [
      "[['BUDI', 4], ['WATI', 4]]\n"
     ]
    }
   ],
   "source": [
    "list2 = [\"Budi\", \"Wati\"]\n",
    "l2 = [[nama.upper(),len(nama)] for nama in list2]\n",
    "print(l2)"
   ]
  },
  {
   "cell_type": "code",
   "execution_count": 16,
   "id": "65c46f95",
   "metadata": {},
   "outputs": [
    {
     "name": "stdout",
     "output_type": "stream",
     "text": [
      "4\n"
     ]
    }
   ],
   "source": [
    "maks_len = max([len(nama) for nama in list2])\n",
    "print(maks_len)\n",
    "# maks_len = 4"
   ]
  },
  {
   "cell_type": "markdown",
   "id": "0c9a4331",
   "metadata": {},
   "source": [
    "#### Filter"
   ]
  },
  {
   "cell_type": "code",
   "execution_count": 17,
   "id": "a66defae",
   "metadata": {},
   "outputs": [
    {
     "name": "stdout",
     "output_type": "stream",
     "text": [
      "[2, 3]\n"
     ]
    }
   ],
   "source": [
    "vec = [-1, -2 , 2 , 3, -3]\n",
    "l1 = [x for x in vec if x >= 0]\n",
    "print(l1) \n"
   ]
  },
  {
   "cell_type": "code",
   "execution_count": 18,
   "id": "aa595de4",
   "metadata": {},
   "outputs": [
    {
     "name": "stdout",
     "output_type": "stream",
     "text": [
      "[99, 99, 2, 3, 99]\n"
     ]
    }
   ],
   "source": [
    "vec = [-1, -2 , 2 , 3, -3]\n",
    "l1 = [x if x>=0 else 99 for x in vec]  # ganti elemen yang <0 dengan angka 99\n",
    "print(l1)\n"
   ]
  },
  {
   "cell_type": "code",
   "execution_count": 19,
   "id": "5c227632",
   "metadata": {},
   "outputs": [
    {
     "name": "stdout",
     "output_type": "stream",
     "text": [
      "[1, 1, 1, 2, 2, 2, 2, 3, 3, 3]\n"
     ]
    }
   ],
   "source": [
    "l3 = [x for x in [1,2,3] for y in [3,1,4,5] if x != y]\n",
    "print(l3)"
   ]
  },
  {
   "cell_type": "code",
   "execution_count": 4,
   "id": "5a8eb681",
   "metadata": {},
   "outputs": [
    {
     "name": "stdout",
     "output_type": "stream",
     "text": [
      "[6, 9, 4]\n"
     ]
    }
   ],
   "source": [
    "nilai1 = [5,15,8,3,12]\n",
    "nilai2 = [x+1 for x in nilai1 if x < 10]\n",
    "print(nilai2)"
   ]
  },
  {
   "cell_type": "code",
   "execution_count": 5,
   "id": "9d0f372c",
   "metadata": {},
   "outputs": [
    {
     "name": "stdout",
     "output_type": "stream",
     "text": [
      "[8, 3]\n"
     ]
    }
   ],
   "source": [
    "nilai1 = [5,10,8,3,11]\n",
    "nilai2 = [x for x in nilai1[1:] if x < 10]\n",
    "print(nilai2)"
   ]
  },
  {
   "cell_type": "markdown",
   "id": "892ffe6f",
   "metadata": {},
   "source": [
    "#### Nested List Comprehension"
   ]
  },
  {
   "cell_type": "code",
   "execution_count": 30,
   "id": "fede1dca",
   "metadata": {},
   "outputs": [
    {
     "name": "stdout",
     "output_type": "stream",
     "text": [
      "[[1, 5, 9], [2, 6, 10], [3, 7, 11], [4, 8, 12]]\n"
     ]
    }
   ],
   "source": [
    "matrix = [ [1,  2,  3,  4],[5,  6,  7,  8],[9, 10, 11, 12], ]\n",
    "\n",
    "transposed = [[row[i] for row in matrix] for i in range(4)]\n",
    "\n",
    "print(transposed)"
   ]
  },
  {
   "cell_type": "code",
   "execution_count": 39,
   "id": "31280a1b",
   "metadata": {},
   "outputs": [
    {
     "name": "stdout",
     "output_type": "stream",
     "text": [
      "[[1, 2, 3, 4], [5, 6, 7, 8], [9, 10, 11, 12]]\n",
      "[[1, 5, 9], [2, 6, 10], [3, 7, 11], [4, 8, 12]]\n"
     ]
    }
   ],
   "source": [
    "transposed = []\n",
    "for i in range(4):\n",
    "    transposed_row = []\n",
    "    for row in matrix:\n",
    "        transposed_row.append(row[i])\n",
    "    transposed.append(transposed_row)\n",
    "print(matrix)   \n",
    "print(transposed)\n"
   ]
  },
  {
   "cell_type": "markdown",
   "id": "805e229e",
   "metadata": {},
   "source": [
    "## Dictionary"
   ]
  },
  {
   "cell_type": "code",
   "execution_count": 42,
   "id": "347c22e6",
   "metadata": {},
   "outputs": [
    {
     "name": "stdout",
     "output_type": "stream",
     "text": [
      "{'Budi': 90, 'Wati': 95, 'Fulan': 40}\n"
     ]
    }
   ],
   "source": [
    "# inisialisasi dict\n",
    "nilai_mhs = {} \n",
    "nilai_mhs = {'Budi': 90, 'Wati': 95}\n",
    "nilai_mhs['Fulan'] = 40  # otomatis add jika key belum ada\n",
    "# hasil: {'Budi': 90, 'Wati': 95, 'Fulan': 40}\n",
    "print(nilai_mhs)"
   ]
  },
  {
   "cell_type": "code",
   "execution_count": 44,
   "id": "b05fd419",
   "metadata": {},
   "outputs": [
    {
     "name": "stdout",
     "output_type": "stream",
     "text": [
      "Budi nilainya 90\n",
      "Wati nilainya 95\n",
      "Fulan nilainya 40\n"
     ]
    }
   ],
   "source": [
    "for k,v in nilai_mhs.items():   #jangan lupa items()!           \n",
    "    print(\"{} nilainya {}\".format(k,v))\n",
    "\n",
    "nama = list(nilai_mhs.keys()) #ambil key, atau for nama in nilai_mhs"
   ]
  },
  {
   "cell_type": "code",
   "execution_count": 45,
   "id": "0b8bda42",
   "metadata": {},
   "outputs": [
    {
     "name": "stdout",
     "output_type": "stream",
     "text": [
      "Budi\n"
     ]
    }
   ],
   "source": [
    "key_list = list(nilai_mhs.keys())     # ['Budi', 'Wati', 'Fulan']\n",
    "val_list = list(nilai_mhs.values())   # [90, 95, 40] \n",
    "  \n",
    "print(key_list[val_list.index(90)])   # output BUDI"
   ]
  },
  {
   "cell_type": "code",
   "execution_count": 46,
   "id": "d30c0dae",
   "metadata": {},
   "outputs": [
    {
     "data": {
      "text/plain": [
       "{'1': 1, '2': 2, '3': 3, '4': 4, '5': 5}"
      ]
     },
     "execution_count": 46,
     "metadata": {},
     "output_type": "execute_result"
    }
   ],
   "source": [
    "#perhatikan kurung kurawal \n",
    "nilai = {x:x*x for x in range(3)}  # {0: 0, 1: 1, 2: 4}\n",
    "\n",
    "#contoh lain\n",
    "{str(i):i for i in [1,2,3,4,5]} # {'1': 1, '2': 2, '3': 3, '4': 4, '5': 5} "
   ]
  },
  {
   "cell_type": "code",
   "execution_count": 47,
   "id": "5ad09b92",
   "metadata": {
    "scrolled": true
   },
   "outputs": [
    {
     "name": "stdout",
     "output_type": "stream",
     "text": [
      "hello\n"
     ]
    }
   ],
   "source": [
    "#Dict dua dimensi atau lebih\n",
    "s1 = {}\n",
    "s2 = {}\n",
    "s2[\"level2_satu\"] = \"hello\"\n",
    "s1[\"level1_satu\"] = s2\n",
    "\n",
    "print(s1[\"level1_satu\"][\"level2_satu\"]) #outputnya hello\n"
   ]
  },
  {
   "cell_type": "markdown",
   "id": "e6bfbef0",
   "metadata": {},
   "source": [
    "## Set"
   ]
  },
  {
   "cell_type": "code",
   "execution_count": 2,
   "id": "5bc99ef2",
   "metadata": {},
   "outputs": [
    {
     "name": "stdout",
     "output_type": "stream",
     "text": [
      "{1, 2, 3}\n"
     ]
    }
   ],
   "source": [
    "my_set = set()  # Menggunakan nama variabel yang berbeda\n",
    "basket = {'apple', 'orange', 'apple'}  # {'apple', 'orange'}, duplikasi hilang\n",
    "\n",
    "set1 = set([3, 1, 2, 1])  # Konversi dari list ke set, menghilangkan duplikasi\n",
    "print(set1)"
   ]
  },
  {
   "cell_type": "code",
   "execution_count": 5,
   "id": "8a733841",
   "metadata": {},
   "outputs": [
    {
     "name": "stdout",
     "output_type": "stream",
     "text": [
      "physics\n",
      "(2, 3, 4, 5)\n",
      "<class 'tuple'>\n"
     ]
    }
   ],
   "source": [
    "tup1 = ('physics', 'chemistry', 1997, 2000)\n",
    "tup2 = (1, 2, 3, 4, 5, 6, 7 )\n",
    "print (tup1[0])\n",
    "# tup1[0] = \"edu\"  # error! karena immutable\n",
    "print (tup2[1:5])\n",
    "tup = (1,2)\n",
    "key, val = tup # berlaku untuk list juga..\n",
    "print(type(tup))"
   ]
  },
  {
   "cell_type": "markdown",
   "id": "3d9df1a0",
   "metadata": {},
   "source": [
    "## Function"
   ]
  },
  {
   "cell_type": "code",
   "execution_count": 6,
   "id": "35670765",
   "metadata": {},
   "outputs": [
    {
     "name": "stdout",
     "output_type": "stream",
     "text": [
      "halo Wati\n",
      "3\n"
     ]
    }
   ],
   "source": [
    "\n",
    "def sapa(nama):\n",
    "    print(\"halo {}\".format(nama))\n",
    "\n",
    "\n",
    "def proses_tambah(a, b):\n",
    "    c = a + b\n",
    "    return c\n",
    "\n",
    "\n",
    "def proses(a, b):\n",
    "    c = a + b\n",
    "    d = a * b\n",
    "    return c, d\n",
    "\n",
    "\n",
    "sapa(\"Wati\")\n",
    "print(proses_tambah(1, 2))\n",
    "x, y = proses(1, 2)\n"
   ]
  },
  {
   "cell_type": "markdown",
   "id": "f6a1efc4",
   "metadata": {},
   "source": [
    "## File Teks"
   ]
  },
  {
   "cell_type": "code",
   "execution_count": 12,
   "id": "30143219",
   "metadata": {},
   "outputs": [
    {
     "name": "stdout",
     "output_type": "stream",
     "text": [
      "Hello\n",
      "Ini baris kedua\n"
     ]
    }
   ],
   "source": [
    "fh = open('halo.txt', 'rt')  # r: read, t: text\n",
    "for line in fh.readlines(): #loop untuk semua baris dalam file\n",
    "    print(line.strip())  #strip() untuk membuang enter dan spasi\n",
    "fh.close()  #tutup file\n"
   ]
  },
  {
   "cell_type": "code",
   "execution_count": 11,
   "id": "ce62a3fe",
   "metadata": {},
   "outputs": [],
   "source": [
    "fh = open('halo.txt', 'wt')  # w: write\n",
    "fh.write(\"Hello \\n\")  #\\n artinya ganti baris\n",
    "fh.write(\"Ini baris kedua\")\n",
    "fh.close()\n"
   ]
  },
  {
   "cell_type": "markdown",
   "id": "8bd81099",
   "metadata": {},
   "source": [
    "# Latihan Praktikum"
   ]
  },
  {
   "cell_type": "markdown",
   "id": "cb2a3a47",
   "metadata": {},
   "source": [
    "1. Diberikan sebuah daftar (list) dengan beberapa nama file, tugasnya adalah mengganti ekstensi file dari .hpp menjadi .h dan membuat daftar baru yang berisi nama-nama file yang sudah diubah. Anda dapat melakukannya dengan menggunakan loop atau list comprehension.\n",
    "\n",
    "    filenames = {\"program.c\", \"stdio.hpp\", \"sample.hpp\", \"a.out\", \"math.hpp\", \"hpp.out\"}\n",
    "    \n",
    "    Output : {\"program.c\", \"stdio.h\", \"sample.h\", \"a.out\", \"math.h\", \"hpp.out\"}\n",
    " "
   ]
  },
  {
   "cell_type": "code",
   "execution_count": 7,
   "id": "5d2720b7",
   "metadata": {},
   "outputs": [
    {
     "name": "stdout",
     "output_type": "stream",
     "text": [
      "['program.c', 'stdio.h', 'sample.h', 'a.out', 'math.h', 'hpp.out']\n"
     ]
    }
   ],
   "source": [
    "filenames = [\"program.c\", \"stdio.hpp\", \"sample.hpp\", \"a.out\", \"math.hpp\", \"hpp.out\"]\n",
    "\n",
    "result = []\n",
    "\n",
    "for filename in filenames:\n",
    "    if filename[-4:] == \".hpp\":\n",
    "        new_filename = filename[:-4] + \".h\"\n",
    "    else:\n",
    "        new_filename = filename\n",
    "    result.append(new_filename)\n",
    "\n",
    "print(result)"
   ]
  },
  {
   "cell_type": "markdown",
   "id": "0c7b0579",
   "metadata": {},
   "source": [
    "2. Buatlah sebuah fungsi transformasi sederhana pada teks di mana setiap kata dimodifikasi dengan memindahkan karakter pertama kata ke akhir kata dan menambahkan \"ay\" di akhirnya. Sebagai contoh, kata \"python\" akan menjadi \"ythonpay\".\n",
    "\n",
    "    print(transformasi(\"hello how are you\")) # Should be \"ellohay owhay reaay ouyay\"\n",
    "    \n",
    "    print(transformasi(\"programming in python is fun\")) # Should be \"rogrammingpay niay ythonpay siay unfay\"\n"
   ]
  },
  {
   "cell_type": "code",
   "execution_count": 18,
   "id": "742e5ba8",
   "metadata": {},
   "outputs": [
    {
     "name": "stdout",
     "output_type": "stream",
     "text": [
      "ellohay owhay reaay ouyay\n",
      "rogrammingpay niay ythonpay siay unfay\n"
     ]
    }
   ],
   "source": [
    "def transformasi(text):\n",
    "    words = text.split()\n",
    "    result = []\n",
    "\n",
    "    for word in words:\n",
    "        hurufPertama = word[0]\n",
    "        setelahHurufPertama = word[1:]\n",
    "        transformed_word = setelahHurufPertama + hurufPertama + \"ay\"\n",
    "        result.append(transformed_word)\n",
    "\n",
    "    transformed_text = \" \".join(result)\n",
    "    return transformed_text\n",
    "\n",
    "print(transformasi(\"hello how are you\"))\n",
    "print(transformasi(\"programming in python is fun\"))"
   ]
  },
  {
   "cell_type": "markdown",
   "id": "7b2202cf",
   "metadata": {},
   "source": [
    "3. Fungsi groups_per_user menerima sebuah dict (dictionary) yang berisi nama-nama grup dengan daftar user dalam setiap grup tersebut. Seorang user dapat menjadi anggota dari beberapa grup. Tugasnya adalah mengisi bagian yang kosong dalam fungsi untuk mengembalikan sebuah dictionary dengan pengguna sebagai kunci (keys) dan daftar grup-grup yang mereka masuki sebagai nilainya.\n",
    "\n",
    "    print(groups_per_user({\"local\": [\"admin\", \"userA\"],\"public\":  [\"admin\", \"userB\"],\"administrator\": [\"admin\"] }))\n",
    "\n",
    "    #expected output\n",
    "        {'admin': ['local', 'public', 'administrator'], 'userA': ['local'], 'userB': ['public']}"
   ]
  },
  {
   "cell_type": "code",
   "execution_count": 2,
   "id": "575debc0",
   "metadata": {},
   "outputs": [
    {
     "name": "stdout",
     "output_type": "stream",
     "text": [
      "{'admin': ['local', 'public', 'administrator'], 'userA': ['local'], 'userB': ['public']}\n"
     ]
    }
   ],
   "source": [
    "def groups_per_user(groups):\n",
    "    user_groups = {}\n",
    "\n",
    "    for group, users in groups.items():\n",
    "        for user in users:\n",
    "            if user in user_groups:\n",
    "                user_groups[user].append(group)\n",
    "            else:\n",
    "                user_groups[user] = [group]\n",
    "\n",
    "    return user_groups\n",
    "\n",
    "print(groups_per_user({\n",
    "    \"local\": [\"admin\", \"userA\"], \n",
    "    \"public\": [\"admin\", \"userB\"], \n",
    "    \"administrator\": [\"admin\"]\n",
    "}))"
   ]
  }
 ],
 "metadata": {
  "kernelspec": {
   "display_name": "Python 3 (ipykernel)",
   "language": "python",
   "name": "python3"
  },
  "language_info": {
   "codemirror_mode": {
    "name": "ipython",
    "version": 3
   },
   "file_extension": ".py",
   "mimetype": "text/x-python",
   "name": "python",
   "nbconvert_exporter": "python",
   "pygments_lexer": "ipython3",
   "version": "3.11.5"
  }
 },
 "nbformat": 4,
 "nbformat_minor": 5
}
